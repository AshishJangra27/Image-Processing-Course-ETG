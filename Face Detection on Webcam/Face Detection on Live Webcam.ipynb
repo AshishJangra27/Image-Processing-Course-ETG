{
 "cells": [
  {
   "cell_type": "code",
   "execution_count": 1,
   "metadata": {},
   "outputs": [],
   "source": [
    "import cv2 as cv\n",
    "import numpy as np\n",
    "\n",
    "classifer = cv.CascadeClassifier(\"haarcascade_frontalface_default.xml\")"
   ]
  },
  {
   "cell_type": "code",
   "execution_count": 3,
   "metadata": {},
   "outputs": [],
   "source": [
    "camera = cv.VideoCapture(0)\n",
    "\n",
    "while True:\n",
    "    \n",
    "    _ , img = camera.read()\n",
    "    img = cv.flip(img, 1)\n",
    "    \n",
    "    cv.imshow('Main', img)\n",
    "    \n",
    "    gray = cv.cvtColor(img, cv.COLOR_RGB2GRAY)\n",
    "    \n",
    "    cv.imshow('GrayScale', gray)\n",
    "    \n",
    "    faces = classifer.detectMultiScale(gray, 1.7, 5)\n",
    "    \n",
    "    for (x,y,w,h) in faces:\n",
    "        cv.rectangle( img, (x,y), (x+w,y+h), (170,50,0), 4)\n",
    "        \n",
    "        face = img[ y:y+h, x:x+w, : ]\n",
    "        \n",
    "        hsv = cv.cvtColor(face, cv.COLOR_RGB2YUV)\n",
    "         \n",
    "        h = face[:,:,:1]\n",
    "        s = face[:,:,:1]\n",
    "        v = face[:,:,:1]\n",
    "    \n",
    "    cv.imshow('Face Detection', img)\n",
    "    cv.imshow('Face', face)\n",
    "    cv.imshow('HSV', hsv)\n",
    "    cv.imshow('Hue', h)\n",
    "    cv.imshow('Saturation', s)\n",
    "    cv.imshow('Value', v)\n",
    "    \n",
    "    key = cv.waitKey(30)\n",
    "    \n",
    "    if(key == 27):\n",
    "        break\n",
    "    \n",
    "camera.release()\n",
    "    "
   ]
  }
 ],
 "metadata": {
  "kernelspec": {
   "display_name": "Python 2",
   "language": "python",
   "name": "python2"
  },
  "language_info": {
   "codemirror_mode": {
    "name": "ipython",
    "version": 2
   },
   "file_extension": ".py",
   "mimetype": "text/x-python",
   "name": "python",
   "nbconvert_exporter": "python",
   "pygments_lexer": "ipython2",
   "version": "2.7.16"
  }
 },
 "nbformat": 4,
 "nbformat_minor": 2
}
