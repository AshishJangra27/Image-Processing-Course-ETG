{
 "cells": [
  {
   "cell_type": "code",
   "execution_count": 110,
   "metadata": {},
   "outputs": [],
   "source": [
    "import dlib\n",
    "import cv2 as cv"
   ]
  },
  {
   "cell_type": "code",
   "execution_count": 234,
   "metadata": {},
   "outputs": [],
   "source": [
    "detector = dlib.get_frontal_face_detector()\n",
    "predictor = dlib.shape_predictor('shape_predictor.dat')"
   ]
  },
  {
   "cell_type": "code",
   "execution_count": 241,
   "metadata": {},
   "outputs": [
    {
     "data": {
      "text/plain": [
       "True"
      ]
     },
     "execution_count": 241,
     "metadata": {},
     "output_type": "execute_result"
    }
   ],
   "source": [
    "img = cv.imread('IMG_2709.JPG')\n",
    "img = cv.resize(img , (img.shape[1]/4, img.shape[0]/4))\n",
    "\n",
    "det = detector(img)\n",
    "\n",
    "\n",
    "x1 = int(det[0].left())\n",
    "y1 = int(det[0].right())\n",
    "x2 = int(det[0].top())\n",
    "y2 = int(det[0].bottom())\n",
    "\n",
    "#img = cv.rectangle(img, (x1,x2),(y1,y2), (0,140,195), 2)\n",
    "\n",
    "pred = predictor(img, det[0])\n",
    "\n",
    "\n",
    "i = 1\n",
    "for points in pred.parts():    \n",
    "    \n",
    "    cv.circle(img, (int(points.x), int(points.y)),2, (233,197,110), -1)\n",
    "    cv.putText(img, str(i), (int(points.x), int(points.y)), cv.FONT_HERSHEY_PLAIN, .7, (110,197,233), 1) \n",
    "    i += 1\n",
    "    \n",
    "cv.imwrite(\"img.png\",img)"
   ]
  },
  {
   "cell_type": "code",
   "execution_count": null,
   "metadata": {},
   "outputs": [],
   "source": []
  }
 ],
 "metadata": {
  "kernelspec": {
   "display_name": "Python 2",
   "language": "python",
   "name": "python2"
  },
  "language_info": {
   "codemirror_mode": {
    "name": "ipython",
    "version": 2
   },
   "file_extension": ".py",
   "mimetype": "text/x-python",
   "name": "python",
   "nbconvert_exporter": "python",
   "pygments_lexer": "ipython2",
   "version": "2.7.16"
  }
 },
 "nbformat": 4,
 "nbformat_minor": 2
}
