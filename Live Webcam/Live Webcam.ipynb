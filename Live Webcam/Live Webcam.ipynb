{
 "cells": [
  {
   "cell_type": "code",
   "execution_count": 1,
   "metadata": {},
   "outputs": [],
   "source": [
    "import cv2 as cv\n",
    "import numpy as np"
   ]
  },
  {
   "cell_type": "code",
   "execution_count": 13,
   "metadata": {},
   "outputs": [],
   "source": [
    "camera = cv.VideoCapture(0)\n",
    "\n",
    "while True:\n",
    "    \n",
    "    _, frame = camera.read()\n",
    "    frame = cv.flip(frame, 1)\n",
    "\n",
    "    \n",
    "    cv.imshow(\"Original\", frame)\n",
    "    \n",
    "    frame = cv.cvtColor(frame, cv.COLOR_BGR2RGB)\n",
    "    \n",
    "    r = frame[:,:, :1]\n",
    "    g = frame[:,:,1:2]\n",
    "    b = frame[:,:,2: ]    \n",
    "\n",
    "    cv.imshow(\"Red\", r)\n",
    "    cv.imshow(\"Green\", g)\n",
    "    cv.imshow(\"Blue\", b)\n",
    "\n",
    "    key = cv.waitKey(30)\n",
    "    \n",
    "    if (key == 27):\n",
    "        cv.destroyAllWindows()\n",
    "        break\n",
    "\n",
    "\n",
    "camera.release()"
   ]
  },
  {
   "cell_type": "code",
   "execution_count": 3,
   "metadata": {},
   "outputs": [],
   "source": []
  },
  {
   "cell_type": "code",
   "execution_count": null,
   "metadata": {},
   "outputs": [],
   "source": []
  }
 ],
 "metadata": {
  "kernelspec": {
   "display_name": "Python 2",
   "language": "python",
   "name": "python2"
  },
  "language_info": {
   "codemirror_mode": {
    "name": "ipython",
    "version": 2
   },
   "file_extension": ".py",
   "mimetype": "text/x-python",
   "name": "python",
   "nbconvert_exporter": "python",
   "pygments_lexer": "ipython2",
   "version": "2.7.16"
  }
 },
 "nbformat": 4,
 "nbformat_minor": 2
}
