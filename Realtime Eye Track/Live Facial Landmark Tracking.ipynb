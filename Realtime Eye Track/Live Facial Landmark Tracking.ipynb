{
 "cells": [
  {
   "cell_type": "code",
   "execution_count": 4,
   "metadata": {},
   "outputs": [],
   "source": [
    "import dlib\n",
    "import cv2 as cv\n",
    "\n",
    "detector = dlib.get_frontal_face_detector()\n",
    "predictor = dlib.shape_predictor('shape_predictor.dat')"
   ]
  },
  {
   "cell_type": "code",
   "execution_count": 21,
   "metadata": {},
   "outputs": [],
   "source": [
    "camera = cv.VideoCapture(0)\n",
    "\n",
    "while True:\n",
    "\n",
    "    _, img = camera.read()\n",
    "    \n",
    "    img = cv.flip(img, 1)\n",
    "    \n",
    "    img = cv.resize(img , (img.shape[1]/2, img.shape[0]/2))\n",
    "\n",
    "    try:\n",
    "        det = detector(img)\n",
    "        pred = predictor(img, det[0])\n",
    "\n",
    "        i = 1\n",
    "        for points in pred.parts():    \n",
    "\n",
    "            cv.circle(img, (int(points.x), int(points.y)),2, (233,197,110), -1)\n",
    "            cv.putText(img, str(i), (int(points.x), int(points.y)), cv.FONT_HERSHEY_PLAIN, .7, (110,197,233), 1) \n",
    "            i += 1\n",
    "            \n",
    "        cv.imshow(\"Facial Landmarks\",img)\n",
    "        \n",
    "    except:\n",
    "        \n",
    "        cv.putText(img, \"Face Not Found\", (20,140), cv.FONT_HERSHEY_PLAIN, 3, (110,197,233), 2) \n",
    "        cv.imshow(\"Facial Landmarks\",img)\n",
    "    \n",
    "    \n",
    "    \n",
    "    key = cv.waitKey(30)\n",
    "    \n",
    "    if (key == 27):\n",
    "        break\n",
    "        \n",
    "camera.release()"
   ]
  },
  {
   "cell_type": "code",
   "execution_count": null,
   "metadata": {},
   "outputs": [],
   "source": []
  }
 ],
 "metadata": {
  "kernelspec": {
   "display_name": "Python 2",
   "language": "python",
   "name": "python2"
  },
  "language_info": {
   "codemirror_mode": {
    "name": "ipython",
    "version": 2
   },
   "file_extension": ".py",
   "mimetype": "text/x-python",
   "name": "python",
   "nbconvert_exporter": "python",
   "pygments_lexer": "ipython2",
   "version": "2.7.16"
  }
 },
 "nbformat": 4,
 "nbformat_minor": 2
}
